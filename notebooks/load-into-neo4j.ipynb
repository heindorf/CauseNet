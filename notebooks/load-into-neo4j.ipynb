{
 "cells": [
  {
   "cell_type": "code",
   "execution_count": 1,
   "metadata": {},
   "outputs": [],
   "source": [
    "import json\n",
    "import bz2\n",
    "from neo4j import GraphDatabase"
   ]
  },
  {
   "cell_type": "code",
   "execution_count": 89,
   "metadata": {},
   "outputs": [],
   "source": [
    "def createClaim(causal_relation):\n",
    "    cause = causal_relation['causal_relation']['cause']['concept']\n",
    "    effect = causal_relation['causal_relation']['effect']['concept']\n",
    "    \n",
    "    claimQuery =  \"MERGE (c:CausalConcept {concept: \\\"\" + json.dumps(cause)[1:-1] + \"\\\"})\\n\"\n",
    "    claimQuery += \"MERGE (e:CausalConcept {concept: \\\"\" + json.dumps(effect)[1:-1] + \"\\\"})\\n\"\n",
    "    claimQuery += \"CREATE (claim:Claim {type: \\\"mayCause\\\"})\\n\"\n",
    "    claimQuery += \"CREATE (claim) -[:cause]-> (c)\\n\"\n",
    "    claimQuery += \"CREATE (claim) -[:effect]-> (e)\\n\\n\"\n",
    "    claimQuery += \"RETURN id(claim)\"\n",
    "    \n",
    "    return claimQuery"
   ]
  },
  {
   "cell_type": "code",
   "execution_count": 128,
   "metadata": {},
   "outputs": [],
   "source": [
    "def createSourceQueries(claim_id, causal_relation):\n",
    "    cause = causal_relation['causal_relation']['cause']['concept']\n",
    "    effect = causal_relation['causal_relation']['effect']['concept']\n",
    "    \n",
    "    claimQuery =  \"MATCH (claim)\\n\"\n",
    "    claimQuery += \"WHERE id(claim)=\" + str(claim_id) + \"\\n\"\n",
    "    \n",
    "    sourceQueries = []\n",
    "    for i in range(len(causal_relation['sources'])):\n",
    "        sourceID = \"s\" + str(i)\n",
    "        query = \"CREATE (claim) -[:claimedIn]-> (\" + sourceID + \":Source)\\n\"\n",
    "        query += createSource(sourceID, causal_relation['sources'][i])\n",
    "        sourceQueries.append(claimQuery + query)\n",
    "    \n",
    "    return sourceQueries"
   ]
  },
  {
   "cell_type": "code",
   "execution_count": 124,
   "metadata": {},
   "outputs": [],
   "source": [
    "def createSource(sourceID, source):\n",
    "    query = \"SET \" + sourceID + \".type=\\\"\" + source['type'] + \"\\\"\\n\"\n",
    "    query += \"SET \" + sourceID + \"=$\" + sourceID + \"\\n\" \n",
    "    return query"
   ]
  },
  {
   "cell_type": "code",
   "execution_count": 125,
   "metadata": {},
   "outputs": [],
   "source": [
    "def createParameters(causal_relation):\n",
    "    parameters = []\n",
    "    for i in range(len(causal_relation['sources'])):\n",
    "        paramID = \"s\" + str(i)\n",
    "        source = causal_relation['sources'][i]\n",
    "        parameter = {}\n",
    "        parameter[paramID] = {k:v for (k,v) in source['payload'].items() if type(v) is str}\n",
    "        if 'sentence' in source['payload']:\n",
    "            parameter[paramID].update({'sentence': source['payload']['sentence']['surface']})\n",
    "        parameters.append(parameter)\n",
    "    return parameters"
   ]
  },
  {
   "cell_type": "code",
   "execution_count": 137,
   "metadata": {},
   "outputs": [],
   "source": [
    "def loadCauseNetIntoNeo4j(uri, user, password, graph_path):\n",
    "    for line in bz2.BZ2File(graph_path):\n",
    "        causal_relation = json.loads(line)\n",
    "        \n",
    "        # create Claim\n",
    "        createClaimQuery = createClaim(causal_relation)\n",
    "        driver = GraphDatabase.driver(uri, auth=(user, password),encrypted = False)\n",
    "        with driver.session() as session:\n",
    "            result = session.run(statement=createClaimQuery)\n",
    "            for record in result:\n",
    "                claim_id = record[\"id(claim)\"]\n",
    "        driver.close()\n",
    "        \n",
    "        # Create sources (important: don't do this all in once [too long queries])\n",
    "        sourceQueries = createSourceQueries(claim_id, causal_relation)\n",
    "        parameters = createParameters(causal_relation)\n",
    "        \n",
    "        assert len(sourceQueries) == len(parameters)\n",
    "        for i in range(len(sourceQueries)):\n",
    "            driver = GraphDatabase.driver(uri, auth=(user, password),encrypted = False)\n",
    "            with driver.session() as session:\n",
    "                session.run(statement=sourceQueries[i], parameters=parameters[i])\n",
    "            driver.close()"
   ]
  },
  {
   "cell_type": "code",
   "execution_count": null,
   "metadata": {
    "scrolled": true
   },
   "outputs": [],
   "source": [
    "# docker run --publish=7474:7474 --publish=7687:7687 --user=\"$(id -u):$(id -g)\" neo4j:4.0\n",
    "\n",
    "uri = \"neo4j://127.0.0.1:7687\"\n",
    "user = \"neo4j\"\n",
    "password = \"password\" \n",
    "graph_path = \"causenet-full.jsonl.bz2\"\n",
    "\n",
    "loadCauseNetIntoNeo4j(uri, user, password, graph_path)"
   ]
  }
 ],
 "metadata": {
  "kernelspec": {
   "display_name": "Python 3",
   "language": "python",
   "name": "python3"
  },
  "language_info": {
   "codemirror_mode": {
    "name": "ipython",
    "version": 3
   },
   "file_extension": ".py",
   "mimetype": "text/x-python",
   "name": "python",
   "nbconvert_exporter": "python",
   "pygments_lexer": "ipython3",
   "version": "3.7.3"
  },
  "toc": {
   "base_numbering": 1,
   "nav_menu": {},
   "number_sections": true,
   "sideBar": true,
   "skip_h1_title": false,
   "title_cell": "Table of Contents",
   "title_sidebar": "Contents",
   "toc_cell": false,
   "toc_position": {},
   "toc_section_display": true,
   "toc_window_display": false
  }
 },
 "nbformat": 4,
 "nbformat_minor": 2
}
